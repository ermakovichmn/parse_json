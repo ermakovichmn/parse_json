{
 "cells": [
  {
   "cell_type": "code",
   "execution_count": 1,
   "id": "bd639a67",
   "metadata": {},
   "outputs": [],
   "source": [
    "import collections\n",
    "import functools"
   ]
  },
  {
   "cell_type": "code",
   "execution_count": 2,
   "id": "3c61a433",
   "metadata": {},
   "outputs": [],
   "source": [
    "def get_path(source):\n",
    "    paths = []\n",
    "    if isinstance(source, collections.MutableMapping):\n",
    "        for k, v in source.items():\n",
    "            paths.append([k])\n",
    "            paths += [[k] + x for x in get_path(v)]\n",
    "    return paths\n",
    "\n",
    "def check_a_b(a,b):\n",
    "    return a == b[:len(a)]\n",
    "\n",
    "def drop_dup_paths(paths):\n",
    "    path_drop_dup = []\n",
    "    \n",
    "    for i in range(len(paths)):\n",
    "        dup = False\n",
    "        \n",
    "        for j in range(len(paths)):\n",
    "            if i!=j and check_a_b(paths[i],paths[j]):\n",
    "                dup = True\n",
    "                break\n",
    "        \n",
    "        if dup:\n",
    "            continue\n",
    "        path_drop_dup.append(paths[i])\n",
    "    return path_drop_dup"
   ]
  },
  {
   "cell_type": "code",
   "execution_count": 3,
   "id": "763208ab",
   "metadata": {},
   "outputs": [],
   "source": [
    "def change_js(js, path, value):\n",
    "    if len(path) > 1:\n",
    "        change_js(js[path[0]], path[1:],value)\n",
    "    else:\n",
    "        js[path[0]] = value\n",
    "        return js\n",
    "    \n",
    "def get_val_js(js, path):\n",
    "    v = js\n",
    "    for k in path:\n",
    "        v = v[k]\n",
    "        \n",
    "    return v"
   ]
  }
 ],
 "metadata": {
  "kernelspec": {
   "display_name": "Python 3 (ipykernel)",
   "language": "python",
   "name": "python3"
  },
  "language_info": {
   "codemirror_mode": {
    "name": "ipython",
    "version": 3
   },
   "file_extension": ".py",
   "mimetype": "text/x-python",
   "name": "python",
   "nbconvert_exporter": "python",
   "pygments_lexer": "ipython3",
   "version": "3.9.7"
  }
 },
 "nbformat": 4,
 "nbformat_minor": 5
}
